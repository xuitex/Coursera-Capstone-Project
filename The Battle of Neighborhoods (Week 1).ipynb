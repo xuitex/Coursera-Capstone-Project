{
 "cells": [
  {
   "cell_type": "markdown",
   "metadata": {},
   "source": [
    "# Capstone Project - The Battle of Neighborhoods (Week 1)"
   ]
  },
  {
   "cell_type": "markdown",
   "metadata": {},
   "source": [
    "## Introduction"
   ]
  },
  {
   "cell_type": "markdown",
   "metadata": {},
   "source": [
    "Bangalore, officially Bengaluru, is the capital of the Indian state of Karnataka. It has a population of over ten million, making it a megacity and the third-most populous city and fifth-most populous urban agglomeration in India.\n",
    "\n",
    "Bengaluru is widely regarded as the \"Silicon Valley of India\" (or \"IT capital of India\") because of its role as the nation's leading information technology (IT) exporter. Indian technological organisations such as ISRO, Infosys, Wipro and HAL are headquartered in the city. A demographically diverse city, Bangalore is the second fastest-growing major metropolis in India. Recent estimates of the metro economy of its urban area have ranked Bangalore either the fourth or fifth-most productive metro area of India. It is home to many educational and research institutions in India, such as Indian Institute of Science (IISc), Indian Institute of Management (Bangalore) (IIMB), International Institute of Information Technology, Bangalore (IIITB), National Institute of Fashion Technology, Bangalore, National Institute of Design, Bangalore (NID R&D Campus), National Law School of India University (NLSIU) and National Institute of Mental Health and Neurosciences (NIMHANS). Numerous state-owned aerospace and defence organisations, such as Bharat Electronics, Hindustan Aeronautics and National Aerospace Laboratories are located in the city. The city also houses the Kannada film industry."
   ]
  },
  {
   "cell_type": "markdown",
   "metadata": {},
   "source": [
    "## Business Problem"
   ]
  },
  {
   "cell_type": "markdown",
   "metadata": {},
   "source": [
    "With huge development in the city, the population is expected to increase in the coming years. Bangalore's 2020 population is now estimated at 12,326,532. The aim of this project is to find suitable places in the city with best dining experiences."
   ]
  },
  {
   "cell_type": "markdown",
   "metadata": {},
   "source": [
    "## Target Audience"
   ]
  },
  {
   "cell_type": "markdown",
   "metadata": {},
   "source": [
    "The target audience of this report is for anyone who wants to open up a new restaurant in Bangalore"
   ]
  },
  {
   "cell_type": "markdown",
   "metadata": {},
   "source": [
    "## Data"
   ]
  },
  {
   "cell_type": "markdown",
   "metadata": {},
   "source": [
    "The data for this project has been taken from the Wikipedia webpage. Where the list of all neighbohoods in every regions has been listed.\n",
    "\n",
    "A link to the webpage is provided here: \"https://en.wikipedia.org/wiki/List_of_neighbourhoods_in_Bangalore\""
   ]
  },
  {
   "cell_type": "markdown",
   "metadata": {},
   "source": [
    "## 1. Importing required libraries"
   ]
  },
  {
   "cell_type": "code",
   "execution_count": 1,
   "metadata": {},
   "outputs": [
    {
     "name": "stdout",
     "output_type": "stream",
     "text": [
      "Collecting package metadata (current_repodata.json): done\n",
      "Solving environment: done\n",
      "\n",
      "## Package Plan ##\n",
      "\n",
      "  environment location: /home/jupyterlab/conda/envs/python\n",
      "\n",
      "  added / updated specs:\n",
      "    - geopy\n",
      "\n",
      "\n",
      "The following packages will be downloaded:\n",
      "\n",
      "    package                    |            build\n",
      "    ---------------------------|-----------------\n",
      "    ca-certificates-2020.6.20  |       hecda079_0         145 KB  conda-forge\n",
      "    certifi-2020.6.20          |   py36h9f0ad1d_0         151 KB  conda-forge\n",
      "    geographiclib-1.50         |             py_0          34 KB  conda-forge\n",
      "    geopy-2.0.0                |     pyh9f0ad1d_0          63 KB  conda-forge\n",
      "    ------------------------------------------------------------\n",
      "                                           Total:         394 KB\n",
      "\n",
      "The following NEW packages will be INSTALLED:\n",
      "\n",
      "  geographiclib      conda-forge/noarch::geographiclib-1.50-py_0\n",
      "  geopy              conda-forge/noarch::geopy-2.0.0-pyh9f0ad1d_0\n",
      "\n",
      "The following packages will be UPDATED:\n",
      "\n",
      "  ca-certificates                     2020.4.5.2-hecda079_0 --> 2020.6.20-hecda079_0\n",
      "  certifi                         2020.4.5.2-py36h9f0ad1d_0 --> 2020.6.20-py36h9f0ad1d_0\n",
      "\n",
      "\n",
      "\n",
      "Downloading and Extracting Packages\n",
      "certifi-2020.6.20    | 151 KB    | ##################################### | 100% \n",
      "ca-certificates-2020 | 145 KB    | ##################################### | 100% \n",
      "geopy-2.0.0          | 63 KB     | ##################################### | 100% \n",
      "geographiclib-1.50   | 34 KB     | ##################################### | 100% \n",
      "Preparing transaction: done\n",
      "Verifying transaction: done\n",
      "Executing transaction: done\n",
      "Libraries imported.\n"
     ]
    }
   ],
   "source": [
    "import numpy as np # library to handle data in a vectorized manner\n",
    "\n",
    "import pandas as pd # library for data analsysis\n",
    "pd.set_option('display.max_columns', None)\n",
    "pd.set_option('display.max_rows', None)\n",
    "\n",
    "import json # library to handle JSON files\n",
    "\n",
    "!conda install -c conda-forge geopy --yes \n",
    "from geopy.geocoders import Nominatim # convert an address into latitude and longitude values\n",
    "\n",
    "import requests # library to handle requests\n",
    "from pandas.io.json import json_normalize # tranform JSON file into a pandas dataframe\n",
    "\n",
    "# Matplotlib and associated plotting modules\n",
    "import matplotlib.cm as cm\n",
    "import matplotlib.colors as colors\n",
    "\n",
    "# import k-means from clustering stage\n",
    "from sklearn.cluster import KMeans\n",
    "\n",
    "#!conda install -c conda-forge folium=0.5.0 --yes\n",
    "#import folium # map rendering library\n",
    "\n",
    "print('Libraries imported.')"
   ]
  },
  {
   "cell_type": "markdown",
   "metadata": {},
   "source": [
    "## 2. Download and explore the Dataset"
   ]
  },
  {
   "cell_type": "code",
   "execution_count": 2,
   "metadata": {},
   "outputs": [
    {
     "name": "stdout",
     "output_type": "stream",
     "text": [
      "[                 Name  Image  \\\n",
      "0     Cantonment area    NaN   \n",
      "1              Domlur    NaN   \n",
      "2         Indiranagar    NaN   \n",
      "3   Jeevanbheemanagar    NaN   \n",
      "4         Malleswaram    NaN   \n",
      "5           Pete area    NaN   \n",
      "6      Sadashivanagar    NaN   \n",
      "7       Seshadripuram    NaN   \n",
      "8        Shivajinagar    NaN   \n",
      "9              Ulsoor    NaN   \n",
      "10      Vasanth Nagar    NaN   \n",
      "\n",
      "                                              Summary  \n",
      "0   The Cantonment area in Bangalore was used as a...  \n",
      "1   Formerly part of the Cantonment area, Domlur h...  \n",
      "2   Indiranagar is a sought-after residential and ...  \n",
      "3                                                 NaN  \n",
      "4                                                 NaN  \n",
      "5   Established by Kempe Gowda I at the time of cr...  \n",
      "6   Sadashivanagar is an upscale neighbourhood in ...  \n",
      "7   Seshadripuram was established in 1892 to reduc...  \n",
      "8   Shivajinagar is one of the older areas of the ...  \n",
      "9   Ulsoor (or Halasuru) is one of the oldest area...  \n",
      "10  Located south of Bangalore Palace, Vasanth Nag...  ,                Name  Image                                            Summary\n",
      "0         Bellandur    NaN  Located along the Outer Ring Road, Bellandur i...\n",
      "1    CV Raman Nagar    NaN  CV Raman Nagar is a neighbourhood to the west ...\n",
      "2             Hoodi    NaN  Hoodi is a locality present in close proximity...\n",
      "3  Krishnarajapuram    NaN  Krishnarajapuram is located at the northernmos...\n",
      "4      Mahadevapura    NaN  Another IT hub along the Outer Ring Road, Maha...\n",
      "5      Marathahalli    NaN  Marathahalli is located at the junction of Old...\n",
      "6           Varthur    NaN  Varthur is a commercial and residential area l...\n",
      "7        Whitefield    NaN  Formerly a settlement of Anglo Indians, Whitef...,                Name  Image  Summary\n",
      "0         Banaswadi    NaN      NaN\n",
      "1        HBR Layout    NaN      NaN\n",
      "2          Horamavu    NaN      NaN\n",
      "3      Kalyan Nagar    NaN      NaN\n",
      "4      Kammanahalli    NaN      NaN\n",
      "5    Lingarajapuram    NaN      NaN\n",
      "6  Ramamurthy Nagar    NaN      NaN,              Name  Image  Summary\n",
      "0          Hebbal    NaN      NaN\n",
      "1       Jalahalli    NaN      NaN\n",
      "2       Mathikere    NaN      NaN\n",
      "3          Peenya    NaN      NaN\n",
      "4     R. T. Nagar    NaN      NaN\n",
      "5  Vidyaranyapura    NaN      NaN\n",
      "6       Yelahanka    NaN      NaN\n",
      "7    Yeshwanthpur    NaN      NaN,               Name  Image                                            Summary\n",
      "0     Bommanahalli    NaN  Primarily a residential area, Bommanahalli has...\n",
      "1      Bommasandra    NaN                                                NaN\n",
      "2       BTM Layout    NaN  BTM Layout is a commercial and residential nei...\n",
      "3  Electronic City    NaN  Nicknamed \"IT capital of India\" and \"Silicon V...\n",
      "4       HSR Layout    NaN  HSR Layout is a new residential area in Bangal...\n",
      "5      Koramangala    NaN  Koramangala is a large commercial and resident...\n",
      "6         Madiwala    NaN  Madiwala is a busy business centre located clo...,                  Name  Image  Summary\n",
      "0        Banashankari    NaN      NaN\n",
      "1        Basavanagudi    NaN      NaN\n",
      "2           Girinagar    NaN      NaN\n",
      "3         J. P. Nagar    NaN      NaN\n",
      "4           Jayanagar    NaN      NaN\n",
      "5  Kumaraswamy Layout    NaN      NaN\n",
      "6     Padmanabhanagar    NaN      NaN\n",
      "7         Uttarahalli    NaN      NaN,          Name  Image  Summary\n",
      "0  Anjanapura    NaN      NaN\n",
      "1     Arekere    NaN      NaN\n",
      "2       Begur    NaN      NaN\n",
      "3   Gottigere    NaN      NaN\n",
      "4    Hulimavu    NaN      NaN\n",
      "5     Kothnur    NaN      NaN,                    Name  Image  \\\n",
      "0     Basaveshwaranagar    NaN   \n",
      "1         Kamakshipalya    NaN   \n",
      "2               Kengeri    NaN   \n",
      "3    Mahalakshmi Layout    NaN   \n",
      "4            Nagarbhavi    NaN   \n",
      "5        Nandini Layout    NaN   \n",
      "6          Nayandahalli    NaN   \n",
      "7           Rajajinagar    NaN   \n",
      "8  Rajarajeshwari Nagar    NaN   \n",
      "9           Vijayanagar    NaN   \n",
      "\n",
      "                                             Summary  \n",
      "0  Basaveshwaranagar is a residential locality lo...  \n",
      "1  Kamakshipalya is a neighbourhood which lies ar...  \n",
      "2  Kengeri is a locality along the Mysore Road an...  \n",
      "3  Mahalakshmi Layout is a large neighbourhood on...  \n",
      "4  Located to the south of Magadi Road and along ...  \n",
      "5                                                NaN  \n",
      "6  Nayandahalli is a transport junction in the we...  \n",
      "7                                                NaN  \n",
      "8  Located in the south-western part of the city ...  \n",
      "9  Named after the Vijayanagara Empire, Vijayanag...  ,   Places adjacent to List of neighbourhoods in Bangalore  \\\n",
      "0  Doddaballapura / Devanahalli Hoskote Magadi Ba...       \n",
      "1                                                NaN       \n",
      "2                                             Magadi       \n",
      "3                                             Bidadi       \n",
      "\n",
      "  Places adjacent to List of neighbourhoods in Bangalore.1      Unnamed: 2  \n",
      "0  Doddaballapura / Devanahalli Hoskote Magadi Ba...                   NaN  \n",
      "1                       Doddaballapura / Devanahalli               Hoskote  \n",
      "2                                          Bangalore                   NaN  \n",
      "3                                       Bannerghatta        Anekal / Hosur  ,         0                             1               2\n",
      "0     NaN  Doddaballapura / Devanahalli         Hoskote\n",
      "1  Magadi                     Bangalore             NaN\n",
      "2  Bidadi                  Bannerghatta  Anekal / Hosur,   Places adjacent to List of neighbourhoods in Bangalore  \\\n",
      "0                       Thavarekere (enter location)       \n",
      "1                                                NaN       \n",
      "2                                        Thavarekere       \n",
      "3                                                NaN       \n",
      "\n",
      "  Places adjacent to List of neighbourhoods in Bangalore.1  Unnamed: 2  \n",
      "0                       Thavarekere (enter location)               NaN  \n",
      "1                                                NaN               NaN  \n",
      "2                                   (enter location)               NaN  \n",
      "3                                                NaN               NaN  ,              0                 1   2\n",
      "0          NaN               NaN NaN\n",
      "1  Thavarekere  (enter location) NaN\n",
      "2          NaN               NaN NaN]\n"
     ]
    }
   ],
   "source": [
    "url = \"https://en.wikipedia.org/wiki/List_of_neighbourhoods_in_Bangalore\"\n",
    "html = requests.get(url).content\n",
    "df = pd.read_html(html)\n",
    "print(df)"
   ]
  },
  {
   "cell_type": "code",
   "execution_count": null,
   "metadata": {},
   "outputs": [],
   "source": [
    "    "
   ]
  }
 ],
 "metadata": {
  "kernelspec": {
   "display_name": "Python",
   "language": "python",
   "name": "conda-env-python-py"
  },
  "language_info": {
   "codemirror_mode": {
    "name": "ipython",
    "version": 3
   },
   "file_extension": ".py",
   "mimetype": "text/x-python",
   "name": "python",
   "nbconvert_exporter": "python",
   "pygments_lexer": "ipython3",
   "version": "3.6.10"
  }
 },
 "nbformat": 4,
 "nbformat_minor": 4
}
